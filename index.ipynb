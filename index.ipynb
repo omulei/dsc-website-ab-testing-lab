{
 "cells": [
  {
   "cell_type": "markdown",
   "metadata": {},
   "source": [
    "# Website A/B Testing - Lab\n",
    "\n",
    "## Introduction\n",
    "\n",
    "In this lab, you'll get another chance to practice your skills at conducting a full A/B test analysis. It will also be a chance to practice your data exploration and processing skills! The scenario you'll be investigating is data collected from the homepage of a music app page for audacity.\n",
    "\n",
    "## Objectives\n",
    "\n",
    "You will be able to:\n",
    "* Analyze the data from a website A/B test to draw relevant conclusions\n",
    "* Explore and analyze web action data"
   ]
  },
  {
   "cell_type": "markdown",
   "metadata": {},
   "source": [
    "## Exploratory Analysis\n",
    "\n",
    "Start by loading in the dataset stored in the file 'homepage_actions.csv'. Then conduct an exploratory analysis to get familiar with the data."
   ]
  },
  {
   "cell_type": "markdown",
   "metadata": {},
   "source": [
    "> Hints:\n",
    "    * Start investigating the id column:\n",
    "        * How many viewers also clicked?\n",
    "        * Are there any anomalies with the data; did anyone click who didn't view?\n",
    "        * Is there any overlap between the control and experiment groups? \n",
    "            * If so, how do you plan to account for this in your experimental design?"
   ]
  },
  {
   "cell_type": "code",
   "execution_count": 1,
   "metadata": {},
   "outputs": [
    {
     "data": {
      "text/html": [
       "<div>\n",
       "<style scoped>\n",
       "    .dataframe tbody tr th:only-of-type {\n",
       "        vertical-align: middle;\n",
       "    }\n",
       "\n",
       "    .dataframe tbody tr th {\n",
       "        vertical-align: top;\n",
       "    }\n",
       "\n",
       "    .dataframe thead th {\n",
       "        text-align: right;\n",
       "    }\n",
       "</style>\n",
       "<table border=\"1\" class=\"dataframe\">\n",
       "  <thead>\n",
       "    <tr style=\"text-align: right;\">\n",
       "      <th></th>\n",
       "      <th>timestamp</th>\n",
       "      <th>id</th>\n",
       "      <th>group</th>\n",
       "      <th>action</th>\n",
       "    </tr>\n",
       "  </thead>\n",
       "  <tbody>\n",
       "    <tr>\n",
       "      <th>0</th>\n",
       "      <td>2016-09-24 17:42:27.839496</td>\n",
       "      <td>804196</td>\n",
       "      <td>experiment</td>\n",
       "      <td>view</td>\n",
       "    </tr>\n",
       "    <tr>\n",
       "      <th>1</th>\n",
       "      <td>2016-09-24 19:19:03.542569</td>\n",
       "      <td>434745</td>\n",
       "      <td>experiment</td>\n",
       "      <td>view</td>\n",
       "    </tr>\n",
       "    <tr>\n",
       "      <th>2</th>\n",
       "      <td>2016-09-24 19:36:00.944135</td>\n",
       "      <td>507599</td>\n",
       "      <td>experiment</td>\n",
       "      <td>view</td>\n",
       "    </tr>\n",
       "    <tr>\n",
       "      <th>3</th>\n",
       "      <td>2016-09-24 19:59:02.646620</td>\n",
       "      <td>671993</td>\n",
       "      <td>control</td>\n",
       "      <td>view</td>\n",
       "    </tr>\n",
       "    <tr>\n",
       "      <th>4</th>\n",
       "      <td>2016-09-24 20:26:14.466886</td>\n",
       "      <td>536734</td>\n",
       "      <td>experiment</td>\n",
       "      <td>view</td>\n",
       "    </tr>\n",
       "  </tbody>\n",
       "</table>\n",
       "</div>"
      ],
      "text/plain": [
       "                    timestamp      id       group action\n",
       "0  2016-09-24 17:42:27.839496  804196  experiment   view\n",
       "1  2016-09-24 19:19:03.542569  434745  experiment   view\n",
       "2  2016-09-24 19:36:00.944135  507599  experiment   view\n",
       "3  2016-09-24 19:59:02.646620  671993     control   view\n",
       "4  2016-09-24 20:26:14.466886  536734  experiment   view"
      ]
     },
     "execution_count": 1,
     "metadata": {},
     "output_type": "execute_result"
    }
   ],
   "source": [
    "import pandas as pd\n",
    "\n",
    "# Load the dataset\n",
    "data = pd.read_csv('homepage_actions.csv')\n",
    "\n",
    "# Display the first few rows of the dataset\n",
    "data.head()"
   ]
  },
  {
   "cell_type": "code",
   "execution_count": 2,
   "metadata": {},
   "outputs": [
    {
     "data": {
      "text/plain": [
       "(6328, 1860, 0, 0)"
      ]
     },
     "execution_count": 2,
     "metadata": {},
     "output_type": "execute_result"
    }
   ],
   "source": [
    "# 1. Determine the number of unique users who viewed and clicked\n",
    "viewed_users = set(data[data['action'] == 'view']['id'].unique())\n",
    "clicked_users = set(data[data['action'] == 'click']['id'].unique())\n",
    "\n",
    "# 2. Identify anomalies: users who clicked without viewing\n",
    "click_without_view = clicked_users - viewed_users\n",
    "\n",
    "# 3. Check for overlap between the control and experimental groups\n",
    "control_users = set(data[data['group'] == 'control']['id'].unique())\n",
    "experiment_users = set(data[data['group'] == 'experiment']['id'].unique())\n",
    "overlap_users = control_users.intersection(experiment_users)\n",
    "\n",
    "len(viewed_users), len(clicked_users), len(click_without_view), len(overlap_users)"
   ]
  },
  {
   "cell_type": "markdown",
   "metadata": {},
   "source": [
    "The dataset contains four columns:\n",
    "\n",
    "1. `timestamp`: The time at which the action was taken.\n",
    "2. `id`: The unique identifier for each user.\n",
    "3. `group`: Specifies whether the user was part of the control group or the experimental group.\n",
    "4. `action`: Indicates whether the user viewed the page or clicked on it.\n",
    "\n",
    "To address the questions posed:\n",
    "\n",
    "1. We'll first determine how many unique users viewed the page and how many clicked on it.\n",
    "2. We'll then identify if there are any anomalies, such as users who clicked without viewing.\n",
    "3. We'll check for any overlap between the control and experimental groups.\n",
    "4. If overlaps are found, we'll discuss how to account for this in our analysis.\n",
    "\n",
    "Here are the findings:\n",
    "\n",
    "1. **Number of unique users who viewed the page:** 6,328\n",
    "2. **Number of unique users who clicked on the page:** 1,860\n",
    "3. **Anomalies (users who clicked without viewing):** None. This means all users who clicked had previously viewed the page.\n",
    "4. **Overlap between the control and experimental groups:** None. This means no user was mistakenly categorized in both groups.\n",
    "\n",
    "Given these results, there is no overlap between the control and experimental groups, so we don't need to make adjustments for this in our analysis."
   ]
  },
  {
   "cell_type": "markdown",
   "metadata": {},
   "source": [
    "## Conduct a Statistical Test\n",
    "\n",
    "Conduct a statistical test to determine whether the experimental homepage was more effective than that of the control group."
   ]
  },
  {
   "cell_type": "code",
   "execution_count": 3,
   "metadata": {},
   "outputs": [
    {
     "name": "stdout",
     "output_type": "stream",
     "text": [
      "-2.618563885349469 0.004415037788297902\n"
     ]
    }
   ],
   "source": [
    "from statsmodels.stats.proportion import proportions_ztest\n",
    "\n",
    "# 1. Compute the number of successes (clicks) and trials (views) for both groups\n",
    "successes_control = len(data[(data['group'] == 'control') & (data['action'] == 'click')])\n",
    "successes_experiment = len(data[(data['group'] == 'experiment') & (data['action'] == 'click')])\n",
    "\n",
    "trials_control = len(data[(data['group'] == 'control') & (data['action'] == 'view')])\n",
    "trials_experiment = len(data[(data['group'] == 'experiment') & (data['action'] == 'view')])\n",
    "\n",
    "# 2. Conduct the Z-test\n",
    "count = [successes_control, successes_experiment]\n",
    "nobs = [trials_control, trials_experiment]\n",
    "\n",
    "z_stat, p_value = proportions_ztest(count, nobs, alternative='smaller')\n",
    "\n",
    "# 3. Display the results\n",
    "print( z_stat, p_value)"
   ]
  },
  {
   "cell_type": "markdown",
   "metadata": {},
   "source": [
    "## Verifying Results\n",
    "\n",
    "One sensible formulation of the data to answer the hypothesis test above would be to create a binary variable representing each individual in the experiment and control group. This binary variable would represent whether or not that individual clicked on the homepage; 1 for they did and 0 if they did not. \n",
    "\n",
    "The variance for the number of successes in a sample of a binomial variable with n observations is given by:\n",
    "\n",
    "## $n\\bullet p (1-p)$\n",
    "\n",
    "Given this, perform 3 steps to verify the results of your statistical test:\n",
    "1. Calculate the expected number of clicks for the experiment group, if it had the same click-through rate as that of the control group. \n",
    "2. Calculate the number of standard deviations that the actual number of clicks was from this estimate. \n",
    "3. Finally, calculate a p-value using the normal distribution based on this z-score."
   ]
  },
  {
   "cell_type": "markdown",
   "metadata": {},
   "source": [
    "### Step 1:\n",
    "Calculate the expected number of clicks for the experiment group, if it had the same click-through rate as that of the control group. "
   ]
  },
  {
   "cell_type": "code",
   "execution_count": 4,
   "metadata": {},
   "outputs": [
    {
     "data": {
      "text/plain": [
       "838.0168067226891"
      ]
     },
     "execution_count": 4,
     "metadata": {},
     "output_type": "execute_result"
    }
   ],
   "source": [
    "# Calculate the CTR of the control group\n",
    "ctr_control = successes_control / trials_control\n",
    "\n",
    "# Calculate the expected number of clicks for the experiment group\n",
    "expected_clicks_experiment = ctr_control * trials_experiment\n",
    "\n",
    "expected_clicks_experiment\n"
   ]
  },
  {
   "cell_type": "markdown",
   "metadata": {},
   "source": [
    "### Step 2:\n",
    "Calculate the number of standard deviations that the actual number of clicks was from this estimate."
   ]
  },
  {
   "cell_type": "code",
   "execution_count": 5,
   "metadata": {},
   "outputs": [
    {
     "data": {
      "text/plain": [
       "3.6625360854823588"
      ]
     },
     "execution_count": 5,
     "metadata": {},
     "output_type": "execute_result"
    }
   ],
   "source": [
    "import numpy as np\n",
    "\n",
    "# Calculate the standard deviation for the expected number of clicks in the experiment group\n",
    "std_dev = np.sqrt(trials_experiment * ctr_control * (1 - ctr_control))\n",
    "\n",
    "# Calculate the z-score\n",
    "actual_clicks_experiment = successes_experiment\n",
    "z_score = (actual_clicks_experiment - expected_clicks_experiment) / std_dev\n",
    "\n",
    "z_score"
   ]
  },
  {
   "cell_type": "markdown",
   "metadata": {},
   "source": [
    "### Step 3: \n",
    "Finally, calculate a p-value using the normal distribution based on this z-score."
   ]
  },
  {
   "cell_type": "code",
   "execution_count": 6,
   "metadata": {},
   "outputs": [
    {
     "data": {
      "text/plain": [
       "0.00012486528006949715"
      ]
     },
     "execution_count": 6,
     "metadata": {},
     "output_type": "execute_result"
    }
   ],
   "source": [
    "from scipy.stats import norm\n",
    "\n",
    "# Calculate the p-value using the standard normal distribution\n",
    "p_value_verification = 1 - norm.cdf(z_score)\n",
    "\n",
    "p_value_verification\n"
   ]
  },
  {
   "cell_type": "markdown",
   "metadata": {},
   "source": [
    "### Analysis:\n",
    "\n",
    "Does this result roughly match that of the previous statistical test?\n",
    "\n",
    "> Comment: ****Analysis:**\n",
    "\n",
    "Yes, the outcome of this verification method closely resembles the outcome of the prior statistical test.\n",
    "\n",
    "\n",
    "\n",
    "- For proportions, the p-value obtained from the Z-test was (0.0044).\n",
    "\n",
    "- The p-value from the binomial variance verification was (0.000125).\n",
    "\n",
    "\n",
    "\n",
    "Both p-values are significantly smaller than the usual significance level ((alpha = 0.05 )), hence the null hypothesis is rejected in both situations.\n",
    "\n",
    "\n",
    "\n",
    "**Comment:**\n",
    "\n",
    "The consistency of results from both methodologies supports the conclusion that the experimental homepage was more effective in terms of click-through rate than the control homepage. By addressing the question from a somewhat different angle but arriving at the same conclusion, the verification method utilizing binomial variance provides an extra layer of confidence in the results. This type of cross-validation is recommended."
   ]
  },
  {
   "cell_type": "markdown",
   "metadata": {},
   "source": [
    "## Summary\n",
    "\n",
    "In this lab, you continued to get more practice designing and conducting AB tests. This required additional work preprocessing and formulating the initial problem in a suitable manner. Additionally, you also saw how to verify results, strengthening your knowledge of binomial variables, and reviewing initial statistical concepts of the central limit theorem, standard deviation, z-scores, and their accompanying p-values."
   ]
  }
 ],
 "metadata": {
  "kernelspec": {
   "display_name": "Python 3",
   "language": "python",
   "name": "python3"
  },
  "language_info": {
   "codemirror_mode": {
    "name": "ipython",
    "version": 3
   },
   "file_extension": ".py",
   "mimetype": "text/x-python",
   "name": "python",
   "nbconvert_exporter": "python",
   "pygments_lexer": "ipython3",
   "version": "3.8.5"
  }
 },
 "nbformat": 4,
 "nbformat_minor": 2
}
